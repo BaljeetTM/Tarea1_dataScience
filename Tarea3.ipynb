{
 "cells": [
  {
   "cell_type": "code",
   "execution_count": 186,
   "id": "8506c2de",
   "metadata": {},
   "outputs": [],
   "source": [
    "import pandas as pd\n",
    "from sklearn.model_selection import train_test_split, GridSearchCV\n",
    "from sklearn.linear_model import LinearRegression, Ridge, Lasso, ElasticNet\n",
    "from sklearn.metrics import mean_squared_error, r2_score\n",
    "from sklearn.preprocessing import LabelEncoder\n",
    "from prettytable import PrettyTable\n",
    "from pandas.plotting import scatter_matrix\n",
    "import matplotlib.pyplot as plt"
   ]
  },
  {
   "cell_type": "code",
   "execution_count": 187,
   "id": "cd7617e0",
   "metadata": {},
   "outputs": [
    {
     "data": {
      "text/html": [
       "<div>\n",
       "<style scoped>\n",
       "    .dataframe tbody tr th:only-of-type {\n",
       "        vertical-align: middle;\n",
       "    }\n",
       "\n",
       "    .dataframe tbody tr th {\n",
       "        vertical-align: top;\n",
       "    }\n",
       "\n",
       "    .dataframe thead th {\n",
       "        text-align: right;\n",
       "    }\n",
       "</style>\n",
       "<table border=\"1\" class=\"dataframe\">\n",
       "  <thead>\n",
       "    <tr style=\"text-align: right;\">\n",
       "      <th></th>\n",
       "      <th>school</th>\n",
       "      <th>sex</th>\n",
       "      <th>age</th>\n",
       "      <th>address</th>\n",
       "      <th>famsize</th>\n",
       "      <th>Parrent_status</th>\n",
       "      <th>Mother_edu</th>\n",
       "      <th>Father_edu</th>\n",
       "      <th>Mother_job</th>\n",
       "      <th>Father_job</th>\n",
       "      <th>...</th>\n",
       "      <th>Family_quality_reln</th>\n",
       "      <th>freetime_after_school</th>\n",
       "      <th>goout_with_friends</th>\n",
       "      <th>workday_alcohol_consum</th>\n",
       "      <th>weekend_alcohol_consum</th>\n",
       "      <th>health_status</th>\n",
       "      <th>absences</th>\n",
       "      <th>G1</th>\n",
       "      <th>G2</th>\n",
       "      <th>G3</th>\n",
       "    </tr>\n",
       "  </thead>\n",
       "  <tbody>\n",
       "    <tr>\n",
       "      <th>0</th>\n",
       "      <td>0</td>\n",
       "      <td>0</td>\n",
       "      <td>18</td>\n",
       "      <td>1</td>\n",
       "      <td>0</td>\n",
       "      <td>0</td>\n",
       "      <td>4</td>\n",
       "      <td>4</td>\n",
       "      <td>0</td>\n",
       "      <td>4</td>\n",
       "      <td>...</td>\n",
       "      <td>4</td>\n",
       "      <td>3</td>\n",
       "      <td>4</td>\n",
       "      <td>1</td>\n",
       "      <td>1</td>\n",
       "      <td>3</td>\n",
       "      <td>6</td>\n",
       "      <td>5</td>\n",
       "      <td>6</td>\n",
       "      <td>6</td>\n",
       "    </tr>\n",
       "    <tr>\n",
       "      <th>1</th>\n",
       "      <td>0</td>\n",
       "      <td>0</td>\n",
       "      <td>17</td>\n",
       "      <td>1</td>\n",
       "      <td>0</td>\n",
       "      <td>1</td>\n",
       "      <td>1</td>\n",
       "      <td>1</td>\n",
       "      <td>0</td>\n",
       "      <td>2</td>\n",
       "      <td>...</td>\n",
       "      <td>5</td>\n",
       "      <td>3</td>\n",
       "      <td>3</td>\n",
       "      <td>1</td>\n",
       "      <td>1</td>\n",
       "      <td>3</td>\n",
       "      <td>4</td>\n",
       "      <td>5</td>\n",
       "      <td>5</td>\n",
       "      <td>6</td>\n",
       "    </tr>\n",
       "    <tr>\n",
       "      <th>2</th>\n",
       "      <td>0</td>\n",
       "      <td>0</td>\n",
       "      <td>15</td>\n",
       "      <td>1</td>\n",
       "      <td>1</td>\n",
       "      <td>1</td>\n",
       "      <td>1</td>\n",
       "      <td>1</td>\n",
       "      <td>0</td>\n",
       "      <td>2</td>\n",
       "      <td>...</td>\n",
       "      <td>4</td>\n",
       "      <td>3</td>\n",
       "      <td>2</td>\n",
       "      <td>2</td>\n",
       "      <td>3</td>\n",
       "      <td>3</td>\n",
       "      <td>10</td>\n",
       "      <td>7</td>\n",
       "      <td>8</td>\n",
       "      <td>10</td>\n",
       "    </tr>\n",
       "    <tr>\n",
       "      <th>3</th>\n",
       "      <td>0</td>\n",
       "      <td>0</td>\n",
       "      <td>15</td>\n",
       "      <td>1</td>\n",
       "      <td>0</td>\n",
       "      <td>1</td>\n",
       "      <td>4</td>\n",
       "      <td>2</td>\n",
       "      <td>1</td>\n",
       "      <td>3</td>\n",
       "      <td>...</td>\n",
       "      <td>3</td>\n",
       "      <td>2</td>\n",
       "      <td>2</td>\n",
       "      <td>1</td>\n",
       "      <td>1</td>\n",
       "      <td>5</td>\n",
       "      <td>2</td>\n",
       "      <td>15</td>\n",
       "      <td>14</td>\n",
       "      <td>15</td>\n",
       "    </tr>\n",
       "    <tr>\n",
       "      <th>4</th>\n",
       "      <td>0</td>\n",
       "      <td>0</td>\n",
       "      <td>16</td>\n",
       "      <td>1</td>\n",
       "      <td>0</td>\n",
       "      <td>1</td>\n",
       "      <td>3</td>\n",
       "      <td>3</td>\n",
       "      <td>2</td>\n",
       "      <td>2</td>\n",
       "      <td>...</td>\n",
       "      <td>4</td>\n",
       "      <td>3</td>\n",
       "      <td>2</td>\n",
       "      <td>1</td>\n",
       "      <td>2</td>\n",
       "      <td>5</td>\n",
       "      <td>4</td>\n",
       "      <td>6</td>\n",
       "      <td>10</td>\n",
       "      <td>10</td>\n",
       "    </tr>\n",
       "    <tr>\n",
       "      <th>...</th>\n",
       "      <td>...</td>\n",
       "      <td>...</td>\n",
       "      <td>...</td>\n",
       "      <td>...</td>\n",
       "      <td>...</td>\n",
       "      <td>...</td>\n",
       "      <td>...</td>\n",
       "      <td>...</td>\n",
       "      <td>...</td>\n",
       "      <td>...</td>\n",
       "      <td>...</td>\n",
       "      <td>...</td>\n",
       "      <td>...</td>\n",
       "      <td>...</td>\n",
       "      <td>...</td>\n",
       "      <td>...</td>\n",
       "      <td>...</td>\n",
       "      <td>...</td>\n",
       "      <td>...</td>\n",
       "      <td>...</td>\n",
       "      <td>...</td>\n",
       "    </tr>\n",
       "    <tr>\n",
       "      <th>390</th>\n",
       "      <td>1</td>\n",
       "      <td>1</td>\n",
       "      <td>20</td>\n",
       "      <td>1</td>\n",
       "      <td>1</td>\n",
       "      <td>0</td>\n",
       "      <td>2</td>\n",
       "      <td>2</td>\n",
       "      <td>3</td>\n",
       "      <td>3</td>\n",
       "      <td>...</td>\n",
       "      <td>5</td>\n",
       "      <td>5</td>\n",
       "      <td>4</td>\n",
       "      <td>4</td>\n",
       "      <td>5</td>\n",
       "      <td>4</td>\n",
       "      <td>11</td>\n",
       "      <td>9</td>\n",
       "      <td>9</td>\n",
       "      <td>9</td>\n",
       "    </tr>\n",
       "    <tr>\n",
       "      <th>391</th>\n",
       "      <td>1</td>\n",
       "      <td>1</td>\n",
       "      <td>17</td>\n",
       "      <td>1</td>\n",
       "      <td>1</td>\n",
       "      <td>1</td>\n",
       "      <td>3</td>\n",
       "      <td>1</td>\n",
       "      <td>3</td>\n",
       "      <td>3</td>\n",
       "      <td>...</td>\n",
       "      <td>2</td>\n",
       "      <td>4</td>\n",
       "      <td>5</td>\n",
       "      <td>3</td>\n",
       "      <td>4</td>\n",
       "      <td>2</td>\n",
       "      <td>3</td>\n",
       "      <td>14</td>\n",
       "      <td>16</td>\n",
       "      <td>16</td>\n",
       "    </tr>\n",
       "    <tr>\n",
       "      <th>392</th>\n",
       "      <td>1</td>\n",
       "      <td>1</td>\n",
       "      <td>21</td>\n",
       "      <td>0</td>\n",
       "      <td>0</td>\n",
       "      <td>1</td>\n",
       "      <td>1</td>\n",
       "      <td>1</td>\n",
       "      <td>2</td>\n",
       "      <td>2</td>\n",
       "      <td>...</td>\n",
       "      <td>5</td>\n",
       "      <td>5</td>\n",
       "      <td>3</td>\n",
       "      <td>3</td>\n",
       "      <td>3</td>\n",
       "      <td>3</td>\n",
       "      <td>3</td>\n",
       "      <td>10</td>\n",
       "      <td>8</td>\n",
       "      <td>7</td>\n",
       "    </tr>\n",
       "    <tr>\n",
       "      <th>393</th>\n",
       "      <td>1</td>\n",
       "      <td>1</td>\n",
       "      <td>18</td>\n",
       "      <td>0</td>\n",
       "      <td>1</td>\n",
       "      <td>1</td>\n",
       "      <td>3</td>\n",
       "      <td>2</td>\n",
       "      <td>3</td>\n",
       "      <td>2</td>\n",
       "      <td>...</td>\n",
       "      <td>4</td>\n",
       "      <td>4</td>\n",
       "      <td>1</td>\n",
       "      <td>3</td>\n",
       "      <td>4</td>\n",
       "      <td>5</td>\n",
       "      <td>0</td>\n",
       "      <td>11</td>\n",
       "      <td>12</td>\n",
       "      <td>10</td>\n",
       "    </tr>\n",
       "    <tr>\n",
       "      <th>394</th>\n",
       "      <td>1</td>\n",
       "      <td>1</td>\n",
       "      <td>19</td>\n",
       "      <td>1</td>\n",
       "      <td>1</td>\n",
       "      <td>1</td>\n",
       "      <td>1</td>\n",
       "      <td>1</td>\n",
       "      <td>2</td>\n",
       "      <td>0</td>\n",
       "      <td>...</td>\n",
       "      <td>3</td>\n",
       "      <td>2</td>\n",
       "      <td>3</td>\n",
       "      <td>3</td>\n",
       "      <td>3</td>\n",
       "      <td>5</td>\n",
       "      <td>5</td>\n",
       "      <td>8</td>\n",
       "      <td>9</td>\n",
       "      <td>9</td>\n",
       "    </tr>\n",
       "  </tbody>\n",
       "</table>\n",
       "<p>395 rows × 33 columns</p>\n",
       "</div>"
      ],
      "text/plain": [
       "     school  sex  age  address  famsize  Parrent_status  Mother_edu  \\\n",
       "0         0    0   18        1        0               0           4   \n",
       "1         0    0   17        1        0               1           1   \n",
       "2         0    0   15        1        1               1           1   \n",
       "3         0    0   15        1        0               1           4   \n",
       "4         0    0   16        1        0               1           3   \n",
       "..      ...  ...  ...      ...      ...             ...         ...   \n",
       "390       1    1   20        1        1               0           2   \n",
       "391       1    1   17        1        1               1           3   \n",
       "392       1    1   21        0        0               1           1   \n",
       "393       1    1   18        0        1               1           3   \n",
       "394       1    1   19        1        1               1           1   \n",
       "\n",
       "     Father_edu  Mother_job  Father_job  ...  Family_quality_reln  \\\n",
       "0             4           0           4  ...                    4   \n",
       "1             1           0           2  ...                    5   \n",
       "2             1           0           2  ...                    4   \n",
       "3             2           1           3  ...                    3   \n",
       "4             3           2           2  ...                    4   \n",
       "..          ...         ...         ...  ...                  ...   \n",
       "390           2           3           3  ...                    5   \n",
       "391           1           3           3  ...                    2   \n",
       "392           1           2           2  ...                    5   \n",
       "393           2           3           2  ...                    4   \n",
       "394           1           2           0  ...                    3   \n",
       "\n",
       "     freetime_after_school  goout_with_friends  workday_alcohol_consum  \\\n",
       "0                        3                   4                       1   \n",
       "1                        3                   3                       1   \n",
       "2                        3                   2                       2   \n",
       "3                        2                   2                       1   \n",
       "4                        3                   2                       1   \n",
       "..                     ...                 ...                     ...   \n",
       "390                      5                   4                       4   \n",
       "391                      4                   5                       3   \n",
       "392                      5                   3                       3   \n",
       "393                      4                   1                       3   \n",
       "394                      2                   3                       3   \n",
       "\n",
       "     weekend_alcohol_consum  health_status  absences  G1  G2  G3  \n",
       "0                         1              3         6   5   6   6  \n",
       "1                         1              3         4   5   5   6  \n",
       "2                         3              3        10   7   8  10  \n",
       "3                         1              5         2  15  14  15  \n",
       "4                         2              5         4   6  10  10  \n",
       "..                      ...            ...       ...  ..  ..  ..  \n",
       "390                       5              4        11   9   9   9  \n",
       "391                       4              2         3  14  16  16  \n",
       "392                       3              3         3  10   8   7  \n",
       "393                       4              5         0  11  12  10  \n",
       "394                       3              5         5   8   9   9  \n",
       "\n",
       "[395 rows x 33 columns]"
      ]
     },
     "execution_count": 187,
     "metadata": {},
     "output_type": "execute_result"
    }
   ],
   "source": [
    "df = pd.read_csv('grades_Tarea3.csv')\n",
    "df"
   ]
  },
  {
   "cell_type": "code",
   "execution_count": null,
   "id": "a3aee566",
   "metadata": {},
   "outputs": [],
   "source": [
    "\n",
    "scatter_matrix(df, alpha=0.2, figsize=(20,20))\n",
    "plt.show()"
   ]
  },
  {
   "cell_type": "markdown",
   "id": "fee0b7ac",
   "metadata": {},
   "source": [
    "## Variable objetivo"
   ]
  },
  {
   "cell_type": "code",
   "execution_count": null,
   "id": "f10f7439",
   "metadata": {},
   "outputs": [],
   "source": [
    "x = df.drop(columns=['G3'])\n",
    "y = df['G3']\n",
    "\n",
    "x_train, x_test, y_train, y_test = train_test_split(x, y, test_size=0.2, random_state=254)"
   ]
  },
  {
   "cell_type": "code",
   "execution_count": null,
   "id": "b4018d65",
   "metadata": {},
   "outputs": [
    {
     "name": "stdout",
     "output_type": "stream",
     "text": [
      "MSE: 4.932035574692813\n",
      "R2: 0.7524064187447084\n"
     ]
    }
   ],
   "source": [
    "#sin regulador\n",
    "lr = LinearRegression()\n",
    "lr.fit(x_train, y_train)\n",
    "y_pred = lr.predict(x_test)\n",
    "mse_sin_regulador = mean_squared_error(y_test, y_pred)\n",
    "r2_sin_regulador = r2_score(y_test, y_pred)\n",
    "print(f'MSE: {mse_sin_regulador}')\n",
    "print(f'R2: {r2_sin_regulador}')"
   ]
  },
  {
   "cell_type": "code",
   "execution_count": null,
   "id": "8a39294c",
   "metadata": {},
   "outputs": [
    {
     "name": "stdout",
     "output_type": "stream",
     "text": [
      "MSE: 5.041794070292545\n",
      "R2: 0.7468964221951755\n"
     ]
    }
   ],
   "source": [
    "#regulador Lasso\n",
    "l1 = Lasso()\n",
    "l1.fit(x_train, y_train)\n",
    "y_pred_l1 = l1.predict(x_test)\n",
    "print(f'MSE: {mean_squared_error(y_test, y_pred_l1)}')\n",
    "print(f'R2: {r2_score(y_test, y_pred_l1)}')"
   ]
  },
  {
   "cell_type": "code",
   "execution_count": null,
   "id": "f7915d6f",
   "metadata": {},
   "outputs": [
    {
     "name": "stdout",
     "output_type": "stream",
     "text": [
      "MSE: 4.928917048539452\n",
      "R2: 0.7525629721691223\n"
     ]
    }
   ],
   "source": [
    "#regulador Ridge\n",
    "l2 = Ridge()\n",
    "l2.fit(x_train, y_train)\n",
    "y_pred_l2 = l2.predict(x_test)\n",
    "print(f'MSE: {mean_squared_error(y_test, y_pred_l2)}')\n",
    "print(f'R2: {r2_score(y_test, y_pred_l2)}')"
   ]
  },
  {
   "cell_type": "code",
   "execution_count": null,
   "id": "7f4c5de2",
   "metadata": {},
   "outputs": [
    {
     "name": "stdout",
     "output_type": "stream",
     "text": [
      "MSE: 5.026662207238316\n",
      "R2: 0.7476560582740159\n"
     ]
    }
   ],
   "source": [
    "#regulador ElasticNet\n",
    "l3 = ElasticNet()\n",
    "l3.fit(x_train, y_train)\n",
    "y_pred_l3 = l3.predict(x_test)\n",
    "print(f'MSE: {mean_squared_error(y_test, y_pred_l3)}')\n",
    "print(f'R2: {r2_score(y_test, y_pred_l3)}')"
   ]
  },
  {
   "cell_type": "markdown",
   "id": "b1ad340c",
   "metadata": {},
   "source": [
    "## Optimización"
   ]
  },
  {
   "cell_type": "code",
   "execution_count": null,
   "id": "38e6b02b",
   "metadata": {},
   "outputs": [
    {
     "name": "stdout",
     "output_type": "stream",
     "text": [
      "Best l1: {'alpha': 1}\n",
      "Best l2: {'alpha': 10}\n",
      "Best l3: {'alpha': 1}\n"
     ]
    }
   ],
   "source": [
    "l1_optimizer = GridSearchCV(l1, {'alpha': [0.001, 0.01, 0.1, 1, 10]}, cv=5, scoring='r2')\n",
    "l1_optimizer.fit(x_train, y_train)\n",
    "print(f'Best l1: {l1_optimizer.best_params_}')\n",
    "l2_optimizer = GridSearchCV(l2, {'alpha': [0.001, 0.01, 0.1, 1, 10]}, cv=5, scoring='r2')\n",
    "l2_optimizer.fit(x_train, y_train)\n",
    "print(f'Best l2: {l2_optimizer.best_params_}')\n",
    "l3_optimizer = GridSearchCV(l3, {'alpha': [0.001, 0.01, 0.1, 1, 10]}, cv=5, scoring='r2')\n",
    "l3_optimizer.fit(x_train, y_train)\n",
    "print(f'Best l3: {l3_optimizer.best_params_}')"
   ]
  },
  {
   "cell_type": "code",
   "execution_count": null,
   "id": "9c15271e",
   "metadata": {},
   "outputs": [
    {
     "name": "stdout",
     "output_type": "stream",
     "text": [
      "Valores optimizados de l1:\n",
      "MSE: 5.041794070292545\n",
      "R2: 0.7468964221951755\n"
     ]
    }
   ],
   "source": [
    "# Valores optimizados de l1\n",
    "l1_opt = Lasso(l1_optimizer.best_params_['alpha'])\n",
    "l1_opt.fit(x_train, y_train)\n",
    "y_pred_l1 = l1_opt.predict(x_test)\n",
    "mse_optimizado_l1 = mean_squared_error(y_test, y_pred_l1)\n",
    "r2_optimizado_l1 = r2_score(y_test, y_pred_l1)\n",
    "print('Valores optimizados de l1:')\n",
    "print(f'MSE: {mse_optimizado_l1}')\n",
    "print(f'R2: {r2_optimizado_l1}')"
   ]
  },
  {
   "cell_type": "code",
   "execution_count": null,
   "id": "7a64bac5",
   "metadata": {},
   "outputs": [
    {
     "data": {
      "text/plain": [
       "'l1_y_hat = -0.912 + 0.000*school + 0.000*sex + 0.000*age + 0.000*address + 0.000*famsize + 0.000*Parrent_status + 0.000*Mother_edu + 0.000*Father_edu + 0.000*Mother_job + 0.000*Father_job + 0.000*reason_to_chose_school + 0.000*guardian + 0.000*traveltime + 0.000*weekly_studytime + 0.000*failures + 0.000*extra_edu_supp + 0.000*family_edu_supp + 0.000*extra_paid_class + 0.000*extra_curr_activities + 0.000*nursery + 0.000*Interested_in_higher_edu + 0.000*internet_access + 0.000*romantic_relationship + 0.000*Family_quality_reln + 0.000*freetime_after_school + 0.000*goout_with_friends + 0.000*workday_alcohol_consum + 0.000*weekend_alcohol_consum + 0.000*health_status + 0.024*absences + 0.072*G1 + 0.974*G2 +'"
      ]
     },
     "execution_count": 87,
     "metadata": {},
     "output_type": "execute_result"
    }
   ],
   "source": [
    "ec = ''\n",
    "for coeficiente, predictor in zip(l1_opt.coef_, x.columns):\n",
    "    ec += f' {abs(coeficiente):.3f}*{predictor} +'\n",
    "modelo_ajustado_l1 = f'l1_y_hat = {l1_opt.intercept_:.3f} +{ec}'\n",
    "modelo_ajustado_l1"
   ]
  },
  {
   "cell_type": "code",
   "execution_count": null,
   "id": "b8d2561c",
   "metadata": {},
   "outputs": [
    {
     "name": "stdout",
     "output_type": "stream",
     "text": [
      "Valores optimizados de l2:\n",
      "MSE: 4.912375949923995\n",
      "R2: 0.753393353414771\n"
     ]
    }
   ],
   "source": [
    "l2_opt = Ridge(l2_optimizer.best_params_['alpha'])\n",
    "l2_opt.fit(x_train, y_train)\n",
    "y_pred_l2 = l2_opt.predict(x_test)\n",
    "mse_optimizado_l2 = mean_squared_error(y_test, y_pred_l2)\n",
    "r2_optimizado_l2 = r2_score(y_test, y_pred_l2)\n",
    "print('Valores optimizados de l2:')\n",
    "print(f'MSE: {mse_optimizado_l2}')\n",
    "print(f'R2: {r2_optimizado_l2}')"
   ]
  },
  {
   "cell_type": "code",
   "execution_count": null,
   "id": "faeba80a",
   "metadata": {},
   "outputs": [
    {
     "data": {
      "text/plain": [
       "'l2_y_hat = -1.644 + 0.368*school + 0.087*sex + 0.139*age + 0.047*address + 0.034*famsize + 0.013*Parrent_status + 0.137*Mother_edu + 0.129*Father_edu + 0.104*Mother_job + 0.079*Father_job + 0.072*reason_to_chose_school + 0.128*guardian + 0.206*traveltime + 0.101*weekly_studytime + 0.221*failures + 0.228*extra_edu_supp + 0.173*family_edu_supp + 0.116*extra_paid_class + 0.147*extra_curr_activities + 0.029*nursery + 0.147*Interested_in_higher_edu + 0.199*internet_access + 0.341*romantic_relationship + 0.282*Family_quality_reln + 0.110*freetime_after_school + 0.067*goout_with_friends + 0.121*workday_alcohol_consum + 0.075*weekend_alcohol_consum + 0.083*health_status + 0.056*absences + 0.175*G1 + 0.955*G2 +'"
      ]
     },
     "execution_count": 89,
     "metadata": {},
     "output_type": "execute_result"
    }
   ],
   "source": [
    "ec = ''\n",
    "for coeficiente, predictor in zip(l2_opt.coef_, x.columns):\n",
    "    ec += f' {abs(coeficiente):.3f}*{predictor} +'\n",
    "modelo_ajustado_l2 = f'l2_y_hat = {l2_opt.intercept_:.3f} +{ec}'\n",
    "modelo_ajustado_l2"
   ]
  },
  {
   "cell_type": "code",
   "execution_count": null,
   "id": "9b426bc9",
   "metadata": {},
   "outputs": [
    {
     "name": "stdout",
     "output_type": "stream",
     "text": [
      "Valores optimizados de l2:\n",
      "MSE: 5.026662207238316\n",
      "R2: 0.7476560582740159\n"
     ]
    }
   ],
   "source": [
    "l3_opt = ElasticNet(l3_optimizer.best_params_['alpha'])\n",
    "l3_opt.fit(x_train, y_train)\n",
    "y_pred_l3 = l3_opt.predict(x_test)\n",
    "mse_optimizado_l3 = mean_squared_error(y_test, y_pred_l3)\n",
    "r2_optimizado_l3 = r2_score(y_test, y_pred_l3)\n",
    "print('Valores optimizados de l2:')\n",
    "print(f'MSE: {mse_optimizado_l3}')\n",
    "print(f'R2: {r2_optimizado_l3}')"
   ]
  },
  {
   "cell_type": "code",
   "execution_count": null,
   "id": "424e30b5",
   "metadata": {},
   "outputs": [
    {
     "data": {
      "text/plain": [
       "'l3_y_hat = -1.367 + 0.000*school + 0.000*sex + 0.000*age + 0.000*address + 0.000*famsize + 0.000*Parrent_status + 0.000*Mother_edu + 0.000*Father_edu + 0.000*Mother_job + 0.000*Father_job + 0.000*reason_to_chose_school + 0.000*guardian + 0.000*traveltime + 0.000*weekly_studytime + 0.000*failures + 0.000*extra_edu_supp + 0.000*family_edu_supp + 0.000*extra_paid_class + 0.000*extra_curr_activities + 0.000*nursery + 0.000*Interested_in_higher_edu + 0.000*internet_access + 0.000*romantic_relationship + 0.000*Family_quality_reln + 0.000*freetime_after_school + 0.000*goout_with_friends + 0.000*workday_alcohol_consum + 0.000*weekend_alcohol_consum + 0.000*health_status + 0.034*absences + 0.191*G1 + 0.890*G2 +'"
      ]
     },
     "execution_count": 91,
     "metadata": {},
     "output_type": "execute_result"
    }
   ],
   "source": [
    "ec = ''\n",
    "for coeficiente, predictor in zip(l3_opt.coef_, x.columns):\n",
    "    ec += f' {abs(coeficiente):.3f}*{predictor} +'\n",
    "modelo_ajustado_l3 = f'l3_y_hat = {l3_opt.intercept_:.3f} +{ec}'\n",
    "modelo_ajustado_l3"
   ]
  },
  {
   "cell_type": "markdown",
   "id": "0a8d3a7a",
   "metadata": {},
   "source": [
    "## Comparacion de modelos"
   ]
  },
  {
   "cell_type": "code",
   "execution_count": null,
   "id": "c583618f",
   "metadata": {},
   "outputs": [
    {
     "data": {
      "text/html": [
       "<table>\n",
       "    <thead>\n",
       "        <tr>\n",
       "            <th>Modelo</th>\n",
       "            <th>MSE</th>\n",
       "            <th>R2</th>\n",
       "        </tr>\n",
       "    </thead>\n",
       "    <tbody>\n",
       "        <tr>\n",
       "            <td>Sin regulador</td>\n",
       "            <td>4.932035574692813</td>\n",
       "            <td>0.7524064187447084</td>\n",
       "        </tr>\n",
       "        <tr>\n",
       "            <td>Lasso</td>\n",
       "            <td>5.041794070292545</td>\n",
       "            <td>0.7468964221951755</td>\n",
       "        </tr>\n",
       "        <tr>\n",
       "            <td>Ridge</td>\n",
       "            <td>4.912375949923995</td>\n",
       "            <td>0.753393353414771</td>\n",
       "        </tr>\n",
       "        <tr>\n",
       "            <td>ElasticNet</td>\n",
       "            <td>5.026662207238316</td>\n",
       "            <td>0.7476560582740159</td>\n",
       "        </tr>\n",
       "    </tbody>\n",
       "</table>"
      ],
      "text/plain": [
       "+---------------+-------------------+--------------------+\n",
       "|     Modelo    |        MSE        |         R2         |\n",
       "+---------------+-------------------+--------------------+\n",
       "| Sin regulador | 4.932035574692813 | 0.7524064187447084 |\n",
       "|     Lasso     | 5.041794070292545 | 0.7468964221951755 |\n",
       "|     Ridge     | 4.912375949923995 | 0.753393353414771  |\n",
       "|   ElasticNet  | 5.026662207238316 | 0.7476560582740159 |\n",
       "+---------------+-------------------+--------------------+"
      ]
     },
     "execution_count": 94,
     "metadata": {},
     "output_type": "execute_result"
    }
   ],
   "source": [
    "table = PrettyTable()\n",
    "table.field_names = [\"Modelo\", \"MSE\", \"R2\"]\n",
    "table.add_row([\"Sin regulador\", mse_sin_regulador, r2_sin_regulador])\n",
    "table.add_row([\"Lasso\", mse_optimizado_l1, r2_optimizado_l1])\n",
    "table.add_row([\"Ridge\", mse_optimizado_l2, r2_optimizado_l2])\n",
    "table.add_row([\"ElasticNet\", mse_optimizado_l3, r2_optimizado_l3])\n",
    "table"
   ]
  }
 ],
 "metadata": {
  "kernelspec": {
   "display_name": "Python 3",
   "language": "python",
   "name": "python3"
  },
  "language_info": {
   "codemirror_mode": {
    "name": "ipython",
    "version": 3
   },
   "file_extension": ".py",
   "mimetype": "text/x-python",
   "name": "python",
   "nbconvert_exporter": "python",
   "pygments_lexer": "ipython3",
   "version": "3.13.1"
  }
 },
 "nbformat": 4,
 "nbformat_minor": 5
}
